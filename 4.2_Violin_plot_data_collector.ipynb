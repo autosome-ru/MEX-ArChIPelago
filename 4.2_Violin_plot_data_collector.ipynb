{
 "cells": [
  {
   "cell_type": "markdown",
   "metadata": {},
   "source": [
    "## Collecting data for violin plots (SF5 G,H and SF6 G,H)"
   ]
  },
  {
   "cell_type": "code",
   "execution_count": null,
   "metadata": {},
   "outputs": [],
   "source": [
    "import os\n",
    "import re\n",
    "import sys\n",
    "import argparse\n",
    "import subprocess\n",
    "import matplotlib\n",
    "import time\n",
    "import pandas as pd\n",
    "import numpy as np\n",
    "from itertools import groupby\n",
    "import seaborn as sns\n",
    "from sklearn.model_selection import train_test_split\n",
    "from sklearn.linear_model import LogisticRegression\n",
    "from sklearn.metrics import roc_auc_score, average_precision_score, accuracy_score\n",
    "from sklearn.metrics import roc_curve\n",
    "from sklearn.metrics import auc\n",
    "from sklearn.metrics import precision_recall_curve\n",
    "import matplotlib.pyplot as plt\n",
    "from pylab import *\n",
    "%matplotlib inline\n",
    "from sklearn.decomposition import PCA\n",
    "from sklearn.preprocessing import LabelEncoder\n",
    "from sklearn.model_selection import cross_val_score\n",
    "from sklearn.model_selection import GridSearchCV\n",
    "from sklearn.ensemble import RandomForestClassifier\n",
    "from sklearn.metrics import accuracy_score, f1_score, precision_score, recall_score, classification_report, confusion_matrix\n",
    "from sklearn.ensemble import RandomForestClassifier, GradientBoostingClassifier\n",
    "from sklearn.model_selection import train_test_split, GridSearchCV\n",
    "from sklearn.preprocessing import StandardScaler\n",
    "from sklearn.pipeline import make_pipeline\n",
    "from sklearn.metrics import accuracy_score, confusion_matrix\n",
    "import pickle\n",
    "import csv\n",
    "from collections import defaultdict\n",
    "import operator\n",
    "import joblib\n",
    "from sklearn.ensemble import BaggingClassifier\n",
    "from sklearn import svm\n",
    "from sklearn.model_selection import StratifiedKFold\n",
    "from Bio import SeqIO\n",
    "from sklearn.feature_selection import RFE\n",
    "from sklearn import preprocessing\n",
    "import pybedtools as pbt\n",
    "import pyBigWig as pbw\n",
    "import glob\n",
    "from datetime import date\n",
    "import random\n",
    "from xgboost import XGBClassifier\n",
    "from sklearn.model_selection import KFold\n",
    "from sklearn.metrics import roc_auc_score\n",
    "from itertools import chain\n",
    "import string\n",
    "import shlex\n",
    "import shutil\n",
    "from Bio.Seq import Seq\n",
    "from Bio.SeqRecord import SeqRecord\n",
    "from sklearn.ensemble import AdaBoostClassifier\n",
    "from adjustText import adjust_text\n",
    "import matplotlib.ticker as ticker\n",
    "\n",
    "TFs_CHS_AFS = pd.read_csv(\"...\", sep=\"\\t\", header=None)\n",
    "files_pwm_HUMAN_mono = TFs_CHS_AFS[0]"
   ]
  },
  {
   "cell_type": "code",
   "execution_count": null,
   "metadata": {},
   "outputs": [],
   "source": [
    "pos_class = 10000\n",
    "neg_class = pos_class * 100\n",
    "N_features = 1000         \n",
    "n_jobs = 100\n",
    "plot_slim = False\n",
    "scale_data = True\n",
    "print_GC = False\n",
    "verbose = True\n",
    "organism = \"HUMAN_GHTS_CHS\"\n",
    "mode  = \"mono\"\n",
    "model_name  = \"RandomForestClassifier\"\n",
    "sys.setrecursionlimit = 10**3 # for deeper recursion\n",
    "\n",
    "#today = date.today()\n",
    "#today_date = today.strftime(\"%d.%m.%Y\")\n",
    "today_date = \"23.12.2023\"\n",
    "\n",
    "root = \"...\"\n",
    "os.chdir(root)\n",
    "model_dir = os.path.abspath('...')\n",
    "os.chdir(model_dir)\n",
    "\n",
    "# H - training set data type\n",
    "# M - testing set data type\n",
    "\n",
    "colnames_l = [\"Count\", \"roc_auc_train_H_PWM\", \"roc_auc_train_H_PWM_di\", \"roc_auc_test_H_PWM\", \n",
    " \"roc_auc_test_H_PWM_di\", \"roc_auc_test_M_PWM\", \"roc_auc_test_M_PWM_di\",\n",
    "\"roc_auc_train_H\", \"mean_auc_train_H\", \"median_auc_train_H\", \"std_auc_train_H\",\n",
    "\"roc_auc_test_H\", \"mean_auc_test_H\", \"median_auc_test_H\", \"std_auc_test_H\",\n",
    "\"roc_auc_test_M\", \"mean_auc_test_M\", \"median_auc_test_M\", \"std_auc_test_M\",\n",
    "\"pr_auc_train_H\", \"mean_pr_auc_train_H\", \"median_pr_auc_train_H\", \"std_pr_auc_train_H\",\n",
    "\"pr_auc_test_H\", \"mean_pr_auc_test_H\", \"median_pr_auc_test_H\", \"std_pr_auc_test_H\",\n",
    "\"pr_auc_test_M\", \"mean_pr_auc_test_M\", \"median_pr_auc_test_M\", \"std_pr_auc_test_M\",\n",
    "\"pr_auc_train_H_PWM\", \"pr_auc_train_H_PWM_di\", \"pr_auc_test_H_PWM\", \"pr_auc_test_H_PWM_di\", \n",
    "\"pr_auc_test_M_PWM\", \"pr_auc_test_M_PWM_di\"]\n",
    "\n",
    "df_l = []\n",
    "TF_сalc = 0\n",
    "for TF in files_pwm_HUMAN_mono:   \n",
    "    #print(\" \")\n",
    "    #print(f\"{TF} #\" + \" {сalc} of {all_c}\".format(all_c=len(files_pwm_HUMAN_mono), сalc=TF_сalc))\n",
    "    TF_сalc += 1\n",
    "    ddf = pd.read_csv(f\"{TF}_new_log_roc_pr_{mode}_{today_date}.txt\",  sep=' ', header=None)\n",
    "    ddf.columns = colnames_l\n",
    "    ddf[\"TF_name\"] = TF\n",
    "    ddf[\"Model\"] = model_name\n",
    "    ddf[\"PWM\"] = mode\n",
    "    df_l.append(ddf)"
   ]
  },
  {
   "cell_type": "markdown",
   "metadata": {},
   "source": [
    "## For training on X and testing on X (the same dataset source)"
   ]
  },
  {
   "cell_type": "code",
   "execution_count": null,
   "metadata": {},
   "outputs": [],
   "source": [
    "df_total = pd.concat(df_l)\n",
    "df_total = df_total[(df_total[\"Model\"] == \"RandomForestClassifier\")]\n",
    "df_total[\"PR_delta_H\"] = df_total[\"pr_auc_test_H\"]-df_total[\"pr_auc_test_H_PWM\"]\n",
    "df_total[\"ROC_delta_H\"] = df_total[\"roc_auc_test_H\"]-df_total[\"roc_auc_test_H_PWM\"]\n",
    "df_total = df_total[df_total[\"PWM\"] == \"mono\"]"
   ]
  },
  {
   "cell_type": "code",
   "execution_count": null,
   "metadata": {},
   "outputs": [],
   "source": [
    "TF_bottom_list = []\n",
    "TF_top_list = []\n",
    "\n",
    "model = \"RandomForestClassifier\"\n",
    "сalc = 0\n",
    "\n",
    "df_all = pd.DataFrame(data={x:[] for x in df_total.columns})\n",
    "\n",
    "for TF in list(set(df_total.TF_name)): \n",
    "    print(TF)\n",
    "    сalc += 1\n",
    "    sns.set_context(\"paper\", font_scale=3)  \n",
    "    df = df_total[df_total.TF_name == TF]\n",
    "\n",
    "    if float(df.tail(1)[\"roc_auc_test_H\"]) - float(df.head(1)[\"roc_auc_test_H\"]) < 0:\n",
    "        TF_bottom_list.append(TF)\n",
    "    if float(df.tail(1)[\"roc_auc_test_H\"]) - float(df.head(1)[\"roc_auc_test_H\"]) > 0.05:\n",
    "        TF_top_list.append(TF)\n",
    "        \n",
    "    df[\"ROC_delta_H\"] = df[\"roc_auc_test_H\"] - float(df.tail(1)[\"roc_auc_test_H_PWM\"])\n",
    "    df['Count'].iloc[-1] = \"all\"\n",
    "    df_all = pd.concat([df_all, df])\n",
    "                   \n",
    "df_all['PWM'] = df_all['Count']\n",
    "df_all['PWM'] = df_all['PWM'].astype(str)\n",
    "df_all[\"dLR\"] = df_all[\"ROC_delta_H\"]"
   ]
  },
  {
   "cell_type": "code",
   "execution_count": null,
   "metadata": {},
   "outputs": [],
   "source": [
    "df_all"
   ]
  },
  {
   "cell_type": "code",
   "execution_count": null,
   "metadata": {},
   "outputs": [],
   "source": [
    "df_all.to_csv(f'../df_violin_..._XX.csv', index=False)"
   ]
  },
  {
   "cell_type": "markdown",
   "metadata": {},
   "source": [
    "## For training on X and testing on Y"
   ]
  },
  {
   "cell_type": "code",
   "execution_count": null,
   "metadata": {},
   "outputs": [],
   "source": [
    "df_total = pd.concat(df_l)\n",
    "df_total = df_total[(df_total[\"Model\"] == \"RandomForestClassifier\")]\n",
    "df_total[\"PR_delta_M\"] = df_total[\"pr_auc_test_M\"]-df_total[\"pr_auc_test_M_PWM\"]\n",
    "df_total[\"ROC_delta_M\"] = df_total[\"roc_auc_test_M\"]-df_total[\"roc_auc_test_M_PWM\"]\n",
    "df_total = df_total[df_total[\"PWM\"] == \"mono\"]"
   ]
  },
  {
   "cell_type": "code",
   "execution_count": null,
   "metadata": {},
   "outputs": [],
   "source": [
    "TF_bottom_list = []\n",
    "TF_top_list = []\n",
    "\n",
    "model = \"RandomForestClassifier\"\n",
    "сalc = 0\n",
    "\n",
    "df_all = pd.DataFrame(data={x:[] for x in df_total.columns})\n",
    "\n",
    "for TF in list(set(df_total.TF_name)): \n",
    "    print(TF)\n",
    "    сalc += 1\n",
    "    sns.set_context(\"paper\", font_scale=3)  \n",
    "    df = df_total[df_total.TF_name == TF]\n",
    "\n",
    "    if float(df.tail(1)[\"roc_auc_test_M\"]) - float(df.head(1)[\"roc_auc_test_M\"]) < 0:\n",
    "        TF_bottom_list.append(TF)\n",
    "    if float(df.tail(1)[\"roc_auc_test_M\"]) - float(df.head(1)[\"roc_auc_test_M\"]) > 0.05:\n",
    "        TF_top_list.append(TF)\n",
    "        \n",
    "    df[\"ROC_delta_M\"] = df[\"roc_auc_test_M\"] - float(df.tail(1)[\"roc_auc_test_M_PWM\"])\n",
    "    df['Count'].iloc[-1] = \"all\"\n",
    "    df_all = pd.concat([df_all, df])\n",
    "                   \n",
    "df_all['PWM'] = df_all['Count']\n",
    "df_all['PWM'] = df_all['PWM'].astype(str)\n",
    "df_all[\"dLR\"] = df_all[\"ROC_delta_M\"]"
   ]
  },
  {
   "cell_type": "code",
   "execution_count": null,
   "metadata": {},
   "outputs": [],
   "source": [
    "df_all"
   ]
  },
  {
   "cell_type": "code",
   "execution_count": null,
   "metadata": {},
   "outputs": [],
   "source": [
    "df_all.to_csv(f'../df_violin_..._XY.csv', index=False)"
   ]
  }
 ],
 "metadata": {
  "kernelspec": {
   "display_name": "Python 3 (ipykernel)",
   "language": "python",
   "name": "python3"
  },
  "language_info": {
   "codemirror_mode": {
    "name": "ipython",
    "version": 3
   },
   "file_extension": ".py",
   "mimetype": "text/x-python",
   "name": "python",
   "nbconvert_exporter": "python",
   "pygments_lexer": "ipython3",
   "version": "3.8.18"
  }
 },
 "nbformat": 4,
 "nbformat_minor": 4
}
